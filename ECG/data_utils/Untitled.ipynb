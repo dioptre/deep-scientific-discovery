{
 "cells": [
  {
   "cell_type": "code",
   "execution_count": 23,
   "metadata": {},
   "outputs": [
    {
     "name": "stdout",
     "output_type": "stream",
     "text": [
      "Finished downsampling 1280 test signals\n"
     ]
    }
   ],
   "source": [
    "import os\n",
    "import json\n",
    "import pandas as pd\n",
    "import numpy as np\n",
    "from scipy.signal import resample\n",
    "\n",
    "\n",
    "# def downsample(mode, new_freq, old_freq=300, old_len=18000):\n",
    "mode='test'\n",
    "new_freq=90\n",
    "old_freq=300\n",
    "old_len=18000\n",
    "\n",
    "data_dir = os.path.join('..', 'data', 'training')\n",
    "dataset_path = os.path.join(data_dir, mode)\n",
    "json_dict = json.load(open(os.path.join(dataset_path, 'labels', 'labels.json')))\n",
    "labels = pd.DataFrame.from_dict(data=json_dict, orient='index')\n",
    "labels = labels.reset_index()\n",
    "labels = labels.rename(columns={'index': 'signal', 0: 'target'})\n",
    "waveform_path = os.path.join(dataset_path, 'waveforms')\n",
    "dataset_size = len(labels)\n",
    "ds_rate = int(old_len // (old_freq/new_freq) + 1)\n",
    "\n",
    "for idx in range(dataset_size):\n",
    "    signal_name = labels.iloc[idx]['signal']\n",
    "    file_name = os.path.join(waveform_path, signal_name) + '.npy'\n",
    "    signal = np.load(file_name)\n",
    "    signal = resample(signal, ds_rate)\n",
    "    np.save(file_name, signal)\n",
    "print(f'Finished downsampling {dataset_size} {mode} signals')"
   ]
  },
  {
   "cell_type": "code",
   "execution_count": 16,
   "metadata": {},
   "outputs": [
    {
     "data": {
      "text/plain": [
       "'../data/training/test/labels/labels.json'"
      ]
     },
     "execution_count": 16,
     "metadata": {},
     "output_type": "execute_result"
    }
   ],
   "source": [
    "os.path.join(dataset_path, 'labels', 'labels.json')"
   ]
  }
 ],
 "metadata": {
  "kernelspec": {
   "display_name": "Python 3",
   "language": "python",
   "name": "python3"
  },
  "language_info": {
   "codemirror_mode": {
    "name": "ipython",
    "version": 3
   },
   "file_extension": ".py",
   "mimetype": "text/x-python",
   "name": "python",
   "nbconvert_exporter": "python",
   "pygments_lexer": "ipython3",
   "version": "3.6.9"
  }
 },
 "nbformat": 4,
 "nbformat_minor": 4
}
